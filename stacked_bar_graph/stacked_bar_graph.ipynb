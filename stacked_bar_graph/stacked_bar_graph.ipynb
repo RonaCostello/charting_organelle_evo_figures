{
 "cells": [
  {
   "cell_type": "code",
   "execution_count": 1,
   "metadata": {},
   "outputs": [],
   "source": [
    "import numpy as np\n",
    "import matplotlib.pyplot as plt\n",
    "from matplotlib import rc\n",
    "import pandas as pd\n",
    "import os"
   ]
  },
  {
   "cell_type": "code",
   "execution_count": 2,
   "metadata": {},
   "outputs": [],
   "source": [
    "locations = ['C', 'M']"
   ]
  },
  {
   "cell_type": "code",
   "execution_count": 19,
   "metadata": {},
   "outputs": [
    {
     "data": {
      "image/png": "[encoded data removed]",
      "text/plain": [
       "<Figure size 432x288 with 2 Axes>"
      ]
     },
     "metadata": {
      "needs_background": "light"
     },
     "output_type": "display_data"
    }
   ],
   "source": [
    "fig, axes = plt.subplots(1, 2, sharey=True)\n",
    "\n",
    "# axes[1]\n",
    "for i, item in enumerate(locations):\n",
    "    file_1 = pd.read_csv(f\"/Users/rona/data/teraserve/chapter-1/IQtrees/relocalisation_duplication/output_{item}_gain.csv\")\n",
    "    file_2 = pd.read_csv(f\"/Users/rona/data/teraserve/chapter-1/IQtrees/relocalisation_duplication/output_{item}_loss.csv\")\n",
    "    \n",
    "    gains_duplications = file_1['reloc_following_dup'].sum() / file_1['number_of_dups'].sum() * 100\n",
    "    gains_speciations = file_1['reloc_following_spec'].sum() / file_1['number_of_specs'].sum() * 100\n",
    "    losses_duplications = file_2['reloc_following_dup'].sum() / file_2['number_of_dups'].sum() * 100\n",
    "    losses_speciations = file_2['reloc_following_spec'].sum() / file_2['number_of_specs'].sum() * 100\n",
    "    \n",
    "    # y-axis in bold\n",
    "    rc('font', weight='bold')\n",
    "    font = {'size'   : 12}\n",
    "    rc('font', **font)\n",
    "    \n",
    "    # Values of each group\n",
    "    bars1 = [losses_speciations, losses_duplications]\n",
    "    bars2 = [gains_speciations, gains_duplications]\n",
    "    \n",
    "    # Heights of bars1 + bars2\n",
    "    bars = np.add(bars1, bars2).tolist()\n",
    "    \n",
    "    # The position of the bars on the x-axis\n",
    "    r = [0,1]\n",
    "    \n",
    "    # Names of group and bar width\n",
    "    names = ['speciation\\nnodes','duplication\\nnodes']\n",
    "    barWidth = 0.85\n",
    "    \n",
    "#     plt.sca(axes[i])\n",
    "    \n",
    "    # Create brown bars\n",
    "    b1 = axes[i].bar(r, bars1, color='#767677', edgecolor='white', width=barWidth)\n",
    "    # Create green bars, on top of the first ones\n",
    "    b2 = axes[i].bar(r, bars2, bottom=bars1, color='#16A438', edgecolor='white', width=barWidth)\n",
    "    # Custom X axis\n",
    "    \n",
    "    if item == 'C':\n",
    "        axes[i].set_title('Chloroplast')\n",
    "    else:\n",
    "        axes[i].set_title('Mitochondrion')\n",
    "\n",
    "    axes[i].set_xticks(r)\n",
    "    axes[i].set_xticklabels(names, fontweight='bold')\n",
    "    axes[i].legend((b2[0], b1[0], ), (\"gains\", \"losses\"))\n",
    "axes[0].set_ylabel(\"% preceeding a change in localisation\")\n",
    "\n",
    "plt.tight_layout()\n",
    "\n",
    "fig.savefig(\"test.pdf\", bbox_inches='tight')"
   ]
  },
  {
   "cell_type": "code",
   "execution_count": 56,
   "metadata": {},
   "outputs": [],
   "source": [
    "# file_1 = pd.read_csv(\"/Users/rona/data/teraserve/chapter-1/IQtrees/relocalisation_duplication/output_C_gain.csv\")\n",
    "# file_2 = pd.read_csv(\"/Users/rona/data/teraserve/chapter-1/IQtrees/relocalisation_duplication/output_C_loss.csv\")"
   ]
  },
  {
   "cell_type": "code",
   "execution_count": 57,
   "metadata": {},
   "outputs": [],
   "source": [
    "# gains_duplications = file_1['reloc_following_dup'].sum() / file_1['number_of_dups'].sum() * 100"
   ]
  },
  {
   "cell_type": "code",
   "execution_count": 58,
   "metadata": {},
   "outputs": [],
   "source": [
    "# gains_speciations = file_1['reloc_following_spec'].sum() / file_1['number_of_specs'].sum() * 100"
   ]
  },
  {
   "cell_type": "code",
   "execution_count": 59,
   "metadata": {},
   "outputs": [],
   "source": [
    "# losses_duplications = file_2['reloc_following_dup'].sum() / file_2['number_of_dups'].sum() * 100"
   ]
  },
  {
   "cell_type": "code",
   "execution_count": 60,
   "metadata": {},
   "outputs": [],
   "source": [
    "# losses_speciations = file_2['reloc_following_spec'].sum() / file_2['number_of_specs'].sum() * 100"
   ]
  },
  {
   "cell_type": "code",
   "execution_count": 61,
   "metadata": {},
   "outputs": [],
   "source": [
    "# # y-axis in bold\n",
    "# rc('font', weight='bold')\n",
    "# font = {'size'   : 12}\n",
    "# rc('font', **font)"
   ]
  },
  {
   "cell_type": "code",
   "execution_count": 62,
   "metadata": {},
   "outputs": [],
   "source": [
    "# # Values of each group\n",
    "# bars1 = [losses_speciations, losses_duplications]\n",
    "# bars2 = [gains_speciations, gains_duplications]"
   ]
  },
  {
   "cell_type": "code",
   "execution_count": 63,
   "metadata": {},
   "outputs": [],
   "source": [
    "# # Heights of bars1 + bars2\n",
    "# bars = np.add(bars1, bars2).tolist()"
   ]
  },
  {
   "cell_type": "code",
   "execution_count": 64,
   "metadata": {},
   "outputs": [],
   "source": [
    "# # The position of the bars on the x-axis\n",
    "# r = [0,1]"
   ]
  },
  {
   "cell_type": "code",
   "execution_count": 65,
   "metadata": {},
   "outputs": [],
   "source": [
    "# # Names of group and bar width\n",
    "# names = ['speciation nodes','duplication nodes']\n",
    "# barWidth = 0.85"
   ]
  },
  {
   "cell_type": "code",
   "execution_count": 66,
   "metadata": {},
   "outputs": [
    {
     "data": {
      "text/plain": [
       "Text(0.5, 1.0, 'Chloroplast')"
      ]
     },
     "execution_count": 66,
     "metadata": {},
     "output_type": "execute_result"
    },
    {
     "data": {
      "image/png": "[encoded data removed]",
      "text/plain": [
       "<Figure size 432x288 with 1 Axes>"
      ]
     },
     "metadata": {
      "needs_background": "light"
     },
     "output_type": "display_data"
    }
   ],
   "source": [
    "# # Create brown bars\n",
    "# b1 = plt.bar(r, bars1, color='#7f6d5f', edgecolor='white', width=barWidth)\n",
    "# # Create green bars, on top of the first ones\n",
    "# b2 = plt.bar(r, bars2, bottom=bars1, color='#557f2d', edgecolor='white', width=barWidth)\n",
    "# # Custom X axis\n",
    "# plt.xticks(r, names, fontweight='bold')\n",
    "# plt.ylabel(\"% preceeding a change in localisation\")\n",
    "# plt.legend((b1[0], b2[0]), (\"losses\", \"gains\"))\n",
    "# plt.title('Chloroplast')"
   ]
  },
  {
   "cell_type": "code",
   "execution_count": null,
   "metadata": {},
   "outputs": [],
   "source": []
  },
  {
   "cell_type": "code",
   "execution_count": null,
   "metadata": {},
   "outputs": [],
   "source": []
  },
  {
   "cell_type": "code",
   "execution_count": null,
   "metadata": {},
   "outputs": [],
   "source": []
  }
 ],
 "metadata": {
  "kernelspec": {
   "display_name": "Python [conda env:paper01_figures]",
   "language": "python",
   "name": "conda-env-paper01_figures-py"
  },
  "language_info": {
   "codemirror_mode": {
    "name": "ipython",
    "version": 3
   },
   "file_extension": ".py",
   "mimetype": "text/x-python",
   "name": "python",
   "nbconvert_exporter": "python",
   "pygments_lexer": "ipython3",
   "version": "3.7.3"
  }
 },
 "nbformat": 4,
 "nbformat_minor": 2
}
