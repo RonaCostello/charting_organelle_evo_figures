{
 "cells": [
  {
   "cell_type": "code",
   "execution_count": 4,
   "metadata": {},
   "outputs": [],
   "source": [
    "from scipy.stats import hypergeom\n",
    "import numpy as np\n",
    "import matplotlib.pyplot as plt\n",
    "from matplotlib import rc\n",
    "import pandas as pd\n",
    "import os\n",
    "import click"
   ]
  },
  {
   "cell_type": "code",
   "execution_count": 5,
   "metadata": {},
   "outputs": [],
   "source": [
    "locations = ['C', 'M']"
   ]
  },
  {
   "cell_type": "code",
   "execution_count": 7,
   "metadata": {},
   "outputs": [
    {
     "name": "stdout",
     "output_type": "stream",
     "text": [
      "C gains\n",
      "7.363705015785295e-27\n",
      "C losses\n",
      "1.5100623230169148e-48\n",
      "M gains\n",
      "1.2151885036337421e-66\n",
      "M losses\n",
      "1.5604122088834702e-48\n"
     ]
    }
   ],
   "source": [
    "directory = '/Users/rona/data/teraserve/chapter-1/IPSORT/relocalisations_duplications'\n",
    "for i, item in enumerate(locations):\n",
    "    file_1 = pd.read_csv(f\"{directory}/output_{item}_gain.csv\")\n",
    "    file_2 = pd.read_csv(f\"{directory}/output_{item}_loss.csv\")\n",
    "    \n",
    "    x_gains = file_1['reloc_following_dup'].sum()\n",
    "    M_gains = file_1['number_of_dups'].sum() + file_1['number_of_specs'].sum()\n",
    "    n_gains = file_1['reloc_following_spec'].sum() + file_1['reloc_following_dup'].sum()\n",
    "    N_gains = file_1['number_of_dups'].sum()\n",
    "    print(item + ' gains')\n",
    "    print(hypergeom.sf(x_gains-1, M_gains, n_gains, N_gains))\n",
    "    \n",
    "    x_losses = file_2['reloc_following_dup'].sum()\n",
    "    M_losses = file_2['number_of_dups'].sum() + file_2['number_of_specs'].sum()\n",
    "    n_losses = file_2['reloc_following_spec'].sum() + file_2['reloc_following_dup'].sum()\n",
    "    N_losses = file_2['number_of_dups'].sum()\n",
    "    \n",
    "    print(item + ' losses')\n",
    "    print(hypergeom.sf(x_losses-1, M_losses, n_losses, N_losses))"
   ]
  },
  {
   "cell_type": "code",
   "execution_count": null,
   "metadata": {},
   "outputs": [],
   "source": []
  }
 ],
 "metadata": {
  "kernelspec": {
   "display_name": "Python [conda env:paper01_figures]",
   "language": "python",
   "name": "conda-env-paper01_figures-py"
  },
  "language_info": {
   "codemirror_mode": {
    "name": "ipython",
    "version": 3
   },
   "file_extension": ".py",
   "mimetype": "text/x-python",
   "name": "python",
   "nbconvert_exporter": "python",
   "pygments_lexer": "ipython3",
   "version": "3.7.3"
  }
 },
 "nbformat": 4,
 "nbformat_minor": 2
}
